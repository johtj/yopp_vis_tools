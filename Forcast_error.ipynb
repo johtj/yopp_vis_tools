{
 "cells": [
  {
   "cell_type": "code",
   "execution_count": null,
   "metadata": {},
   "outputs": [],
   "source": [
    "import xarray as xr\n",
    "import pandas as pd\n",
    "import numpy as np\n",
    "import holoviews as hv\n",
    "import hvplot.xarray \n",
    "import panel as pn\n",
    "from thredds_crawler.crawl import Crawl\n",
    "import datetime as dt\n",
    "from scipy.interpolate import interp1d,interp2d"
   ]
  },
  {
   "cell_type": "code",
   "execution_count": null,
   "metadata": {},
   "outputs": [],
   "source": [
    "hv.extension('bokeh')\n",
    "pn.extension()"
   ]
  },
  {
   "cell_type": "code",
   "execution_count": null,
   "metadata": {
    "scrolled": true
   },
   "outputs": [],
   "source": [
    "def prep_mod(url):\n",
    "    #opens model file from url as dataset\n",
    "    mod = xr.open_dataset(url)\n",
    "    \n",
    "    #calculate height axis for the model, works for IFS\n",
    "    mod['height'] = mod.zg - mod.zghalf[:, -1]\n",
    "    \n",
    "    #select relevant variable and height axis\n",
    "    mod_ds = mod[['height','ta']]\n",
    "    \n",
    "    #flip the height axis and convert to dataframe\n",
    "    mod_ds = mod_ds.reindex(level=list(reversed(mod_ds.level)))\n",
    "    tot_df = mod_ds.to_dataframe()\n",
    "    \n",
    "    #resample with 1 hour frequency and remove first point in resulting dataframe\n",
    "    # as it is at point 00:00:00, and the first model point when resampled should occur \n",
    "    #at 01:00:00\n",
    "    df_res = tot_df.swaplevel().unstack().resample('1H').asfreq()\n",
    "    df_res = df_res[1:]\n",
    "    \n",
    "    return df_res\n",
    "    \n",
    "def interpolate_mod(df_res,height):\n",
    "    #create a dummy dataframe with the correct dimensions to hold the results\n",
    "    time = df_res.index.values\n",
    "    dummy = pd.DataFrame('NaN',height,time)\n",
    "\n",
    "    #for each timestep - read for each height axis, interpolate to the new axis\n",
    "    #then add to the dummy dataframe \n",
    "    for i in df_res.index.values:\n",
    "        temp = df_res.loc[i].unstack().T\n",
    "        height_model = temp['height']\n",
    "        temperature = temp['ta']\n",
    "\n",
    "        interpolated = interp1d(height_model,temperature,fill_value=\"extrapolate\")(height)\n",
    "        dummy[i] = interpolated\n",
    "    \n",
    "    \n",
    "    return dummy"
   ]
  },
  {
   "cell_type": "code",
   "execution_count": null,
   "metadata": {},
   "outputs": [],
   "source": [
    "def calc_err(mod,obs,hours):\n",
    "#     #select relevant obs chunk from larger SOP obs file\n",
    "#     st = mod.columns.values[0]\n",
    "#     et = mod.columns.values[-1]\n",
    "#     time_obs = ob[st:et]\n",
    "    \n",
    "    comb_func = lambda x,y: x-y\n",
    "    err = dummy.combine(dummy_obs,comb_func)\n",
    "    \n",
    "    #convert to common time axis based on how many hours into the 3 \n",
    "    #day forcast the point is\n",
    "    err.columns = hours\n",
    "    \n",
    "    return err\n",
    "\n",
    "\n",
    "def calculate(forcast_errors,hours):\n",
    "    medians = []\n",
    "    for hour in range(0,72):\n",
    "        values_per_time = forcast_errors[:,hour,:]\n",
    "        medians.append(np.median(values_per_time,axis=0))\n",
    "    \n",
    "    plottable= np.stack(medians).T\n",
    "    \n",
    "    return plottable\n"
   ]
  },
  {
   "cell_type": "code",
   "execution_count": null,
   "metadata": {},
   "outputs": [],
   "source": [
    "def plot_err(plottable):\n",
    "    ds = xr.DataArray(plottable,dims=['hieght','forcast length'])\n",
    "    plot = ds.hvplot.contourf()\n",
    "    return plot"
   ]
  },
  {
   "cell_type": "code",
   "execution_count": null,
   "metadata": {},
   "outputs": [],
   "source": [
    "catalog = \"https://thredds.met.no/thredds/catalog/alertness/YOPP_supersite/ifs-ecmwf/sodankyla/catalog.html\"\n",
    "c = Crawl(catalog, select=['.*20180[3]..00\\.nc'])\n",
    "urls_mod = []\n",
    "for d in c.datasets:\n",
    "    for s in d.services:\n",
    "        if s.get(\"service\").lower() == \"opendap\":\n",
    "            urls_mod.append(s.get(\"url\")+\"?zg,zghalf,ta,time,level\")\n",
    "            \n",
    "urls_mod = urls_mod[0:2]\n",
    "\n",
    "errors = []\n",
    "height = np.arange(0,8005,5)\n",
    "hours = np.arange(1,73)\n",
    "\n",
    "\n",
    "for url in urls_mod:\n",
    "    df_res = prep_mod(url)\n",
    "    dummy = interpolate_mod(df_res,height)\n",
    "    \n",
    "    dummy_obs = dummy.apply(lambda x: x-(x*0.25))\n",
    "    err = calc_err(dummy,dummy_obs,hours)\n",
    "    \n",
    "    errors.append(err.T)\n",
    "    \n",
    "    \n",
    "    \n",
    "forcast_errors = np.stack(errors)\n",
    "\n",
    "plottable = calculate(forcast_errors,hours)\n",
    "plot_err(plottable)\n"
   ]
  },
  {
   "cell_type": "code",
   "execution_count": null,
   "metadata": {},
   "outputs": [],
   "source": []
  },
  {
   "cell_type": "code",
   "execution_count": null,
   "metadata": {},
   "outputs": [],
   "source": []
  },
  {
   "cell_type": "code",
   "execution_count": null,
   "metadata": {},
   "outputs": [],
   "source": []
  },
  {
   "cell_type": "code",
   "execution_count": null,
   "metadata": {},
   "outputs": [],
   "source": []
  },
  {
   "cell_type": "code",
   "execution_count": null,
   "metadata": {},
   "outputs": [],
   "source": []
  }
 ],
 "metadata": {
  "kernelspec": {
   "display_name": "Python 3",
   "language": "python",
   "name": "python3"
  },
  "language_info": {
   "codemirror_mode": {
    "name": "ipython",
    "version": 3
   },
   "file_extension": ".py",
   "mimetype": "text/x-python",
   "name": "python",
   "nbconvert_exporter": "python",
   "pygments_lexer": "ipython3",
   "version": "3.8.10"
  }
 },
 "nbformat": 4,
 "nbformat_minor": 4
}
