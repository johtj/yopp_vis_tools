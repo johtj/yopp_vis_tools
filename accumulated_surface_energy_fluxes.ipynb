{
 "cells": [
  {
   "cell_type": "code",
   "execution_count": null,
   "metadata": {},
   "outputs": [],
   "source": [
    "import xarray as xr\n",
    "import pandas as pd\n",
    "import numpy as np\n",
    "import holoviews as hv\n",
    "import panel as pn"
   ]
  },
  {
   "cell_type": "code",
   "execution_count": null,
   "metadata": {},
   "outputs": [],
   "source": [
    "pn.extension()\n",
    "hv.extension(\"bokeh\")"
   ]
  },
  {
   "cell_type": "code",
   "execution_count": null,
   "metadata": {},
   "outputs": [],
   "source": []
  },
  {
   "cell_type": "code",
   "execution_count": null,
   "metadata": {},
   "outputs": [],
   "source": [
    "def data_prep(df):\n",
    "    \n",
    "    df_out = pd.DataFrame()\n",
    "    \n",
    "    df['hfls'] = df['hfls']*(-1)\n",
    "    df['hfss'] = df['hfss']*(-1)\n",
    "    df['rlus'] = df['rlus']*(-1)\n",
    "    df['rsus'] = df['rsus']*(-1)\n",
    "    \n",
    "    calc_acc = df\n",
    "    \n",
    "    df_out['netLW'] = df['rlus']+df['rlds']\n",
    "    df_out['netSW'] = df['rsus']+df['rsds']\n",
    "    df_out['hfls'] = df['hfls']\n",
    "    df_out['hfss'] = df['hfss']\n",
    "    \n",
    "    df_out = df_out.cumsum()\n",
    "    \n",
    "    \n",
    "    calc_acc = calc_acc.sum(axis=1)\n",
    "    calc_acc = calc_acc.cumsum()\n",
    "    df_out['accumulated'] = calc_acc\n",
    "    \n",
    "    #number_adds = pd.Series(np.arange(1, len(df_out)+1), df_out.index)\n",
    "    #df_out = df_out.divide(number_adds, axis = 0)\n",
    "    \n",
    "    \n",
    "    return df_out\n"
   ]
  },
  {
   "cell_type": "code",
   "execution_count": null,
   "metadata": {},
   "outputs": [],
   "source": [
    "def line_plot(data):\n",
    "    \n",
    "    plots = []\n",
    "    for column in data.columns:\n",
    "        sub = hv.Curve((data.index,data[column]),label=column)\n",
    "        plots.append(sub)\n",
    "\n",
    "    plot = hv.Overlay(plots)\n",
    "    zero = hv.HLine(0)\n",
    "    zero.opts(\n",
    "        color = 'black',\n",
    "        line_width=1.0\n",
    "    )\n",
    "    \n",
    "    plot = plot * zero\n",
    "    return plot"
   ]
  },
  {
   "cell_type": "code",
   "execution_count": null,
   "metadata": {},
   "outputs": [],
   "source": [
    "def get_plot(type_choice):\n",
    "    \n",
    "    variables = \"hfls,hfss,rlus,rlds,rsus,rsds\"\n",
    "\n",
    "    ds = xr.open_dataset(\"https://thredds.met.no/thredds/dodsC/alertness/YOPP_supersite/ifs-ecmwf/sodankyla/sodankyla_ifs-ecmwf_2018033112.nc?time,\"+variables)\n",
    "    \n",
    "    st = ds['time'][0].values - (ds['time'][1].values-ds['time'][0].values)\n",
    "    time_index = ds['time'].values\n",
    "    time_index = np.insert(time_index, 0, st, axis=0)\n",
    "    \n",
    "    df = ds.to_dataframe()\n",
    "    df = df.reindex(time_index, fill_value=0)\n",
    "    \n",
    "    data = data_prep(df)\n",
    "    \n",
    "    plot = line_plot(data)\n",
    "    \n",
    "    plot.opts(title=\"This is a plot\",\n",
    "        ylabel=\"These are units\",\n",
    "        xlabel=\"This is time\",\n",
    "        width=600,\n",
    "        height=400,\n",
    "        legend_position='left'\n",
    "        ) \n",
    "    return plot\n",
    "\n"
   ]
  },
  {
   "cell_type": "code",
   "execution_count": null,
   "metadata": {},
   "outputs": [],
   "source": [
    "pn.Column(\"insert name here\",get_plot(\"stacke\"), width_policy=\"max\")"
   ]
  },
  {
   "cell_type": "code",
   "execution_count": null,
   "metadata": {},
   "outputs": [],
   "source": []
  },
  {
   "cell_type": "code",
   "execution_count": null,
   "metadata": {},
   "outputs": [],
   "source": []
  },
  {
   "cell_type": "code",
   "execution_count": null,
   "metadata": {},
   "outputs": [],
   "source": []
  }
 ],
 "metadata": {
  "kernelspec": {
   "display_name": "Python 3",
   "language": "python",
   "name": "python3"
  },
  "language_info": {
   "codemirror_mode": {
    "name": "ipython",
    "version": 3
   },
   "file_extension": ".py",
   "mimetype": "text/x-python",
   "name": "python",
   "nbconvert_exporter": "python",
   "pygments_lexer": "ipython3",
   "version": "3.8.10"
  }
 },
 "nbformat": 4,
 "nbformat_minor": 4
}
