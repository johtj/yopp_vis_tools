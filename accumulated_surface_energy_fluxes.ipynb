{
 "cells": [
  {
   "cell_type": "code",
   "execution_count": null,
   "metadata": {},
   "outputs": [],
   "source": [
    "import xarray as xr\n",
    "import pandas as pd\n",
    "import numpy as np\n",
    "import holoviews as hv\n",
    "import panel as pn\n",
    "import datetime as dt\n",
    "from get_data import get_urls_mod, get_urls_obs, get_data"
   ]
  },
  {
   "cell_type": "code",
   "execution_count": null,
   "metadata": {},
   "outputs": [],
   "source": [
    "pn.extension()\n",
    "hv.extension(\"bokeh\")"
   ]
  },
  {
   "attachments": {},
   "cell_type": "markdown",
   "metadata": {},
   "source": [
    "# Use-case: Accumulated surface energy fluxes"
   ]
  },
  {
   "attachments": {},
   "cell_type": "markdown",
   "metadata": {},
   "source": [
    "## Introduction"
   ]
  },
  {
   "attachments": {},
   "cell_type": "markdown",
   "metadata": {},
   "source": [
    "This notebook contains the code for generating a line-plot for the accumulated surface energy fluxes.\n",
    "\n",
    "The code responsible for fetching data can be found in get_data.py\n",
    "\n",
    "This plotting tool has been generated for the Year Of Polar Prediction site Model Intercomparison Project, YOPPsiteMIP"
   ]
  },
  {
   "attachments": {},
   "cell_type": "markdown",
   "metadata": {},
   "source": [
    "## Code"
   ]
  },
  {
   "attachments": {},
   "cell_type": "markdown",
   "metadata": {},
   "source": [
    "This following cell contains the code responsible for generating the widgets userd for user interactivity"
   ]
  },
  {
   "cell_type": "code",
   "execution_count": null,
   "metadata": {},
   "outputs": [],
   "source": [
    "#selection of site\n",
    "site_name = pn.widgets.Select(\n",
    "    name=\"Site\", options=['sodankyla','tiksi'],value = 'tiksi', margin=(0, 20, 0, 0)\n",
    ")\n",
    "\n",
    "#selection of model\n",
    "model_name = pn.widgets.Select(\n",
    "    name=\"model\", options=['AROME-Arctic','ifs-ecmwf'],value='ifs-ecmwf', margin=(0, 20, 0, 0)\n",
    ")\n",
    "\n",
    "#user selection variable\n",
    "variable = pn.widgets.Select(\n",
    "    name=\"Variables\", options=['tas','snd'], margin=(0, 20, 0, 0)\n",
    ")\n",
    "\n",
    "#user selection start and end date only sop 1 as of right now\n",
    "dates = pn.widgets.DateRangeSlider(\n",
    "    name='Date Range Slider',\n",
    "    start=dt.datetime(2018, 2, 1), end=dt.datetime(2018, 3, 31),\n",
    "    value=(dt.datetime(2018, 2, 1), dt.datetime(2018, 2, 2))\n",
    ")\n",
    "\n",
    "#user selection start time for model \n",
    "start_time = pn.widgets.Select(\n",
    "    name=\"Start time\", options=['00','12'], margin=(0, 20, 0, 0)\n",
    ")\n",
    "\n",
    "#user selection of which day should be fetched from the model files\n",
    "#for concat\n",
    "concat_day = pn.widgets.Select(\n",
    "    name=\"Model day selected\", options={1:0,2:1,3:2}, margin=(0,20,0,0)\n",
    ")\n",
    "\n",
    "\n",
    "loading = pn.indicators.LoadingSpinner(value=False, width=100, height=100)"
   ]
  },
  {
   "attachments": {},
   "cell_type": "markdown",
   "metadata": {},
   "source": [
    "This following cell contains the code repsonsible for preparing the data, and calculating the accumulated surface energy fluxes"
   ]
  },
  {
   "cell_type": "code",
   "execution_count": null,
   "metadata": {},
   "outputs": [],
   "source": [
    "def data_prep(df):\n",
    "    \n",
    "    df_out = pd.DataFrame()\n",
    "    \n",
    "    df['hfls'] = df['hfls']*(-1)\n",
    "    df['hfss'] = df['hfss']*(-1)\n",
    "    df['rlus'] = df['rlus']*(-1)\n",
    "    df['rsus'] = df['rsus']*(-1)\n",
    "    \n",
    "    calc_acc = df\n",
    "    \n",
    "    df_out['netLW'] = df['rlus']+df['rlds']\n",
    "    df_out['netSW'] = df['rsus']+df['rsds']\n",
    "    df_out['hfls'] = df['hfls']\n",
    "    df_out['hfss'] = df['hfss']\n",
    "    \n",
    "    df_out = df_out.cumsum()\n",
    "    \n",
    "    \n",
    "    calc_acc = calc_acc.sum(axis=1)\n",
    "    calc_acc = calc_acc.cumsum()\n",
    "    df_out['accumulated'] = calc_acc\n",
    "    \n",
    "    #number_adds = pd.Series(np.arange(1, len(df_out)+1), df_out.index)\n",
    "    #df_out = df_out.divide(number_adds, axis = 0)\n",
    "    \n",
    "    \n",
    "    return df_out\n"
   ]
  },
  {
   "attachments": {},
   "cell_type": "markdown",
   "metadata": {},
   "source": [
    "This following cell contains the function responsible for generating the line plot."
   ]
  },
  {
   "cell_type": "code",
   "execution_count": null,
   "metadata": {},
   "outputs": [],
   "source": [
    "def line_plot(data):\n",
    "    \n",
    "    plots = []\n",
    "    for column in data.columns:\n",
    "        sub = hv.Curve((data.index,data[column]),label=column)\n",
    "        plots.append(sub)\n",
    "\n",
    "    plot = hv.Overlay(plots)\n",
    "    zero = hv.HLine(0)\n",
    "    zero.opts(\n",
    "        color = 'black',\n",
    "        line_width=1.0\n",
    "    )\n",
    "    \n",
    "    plot = plot * zero\n",
    "    return plot"
   ]
  },
  {
   "attachments": {},
   "cell_type": "markdown",
   "metadata": {},
   "source": [
    "This following cell contains the main function."
   ]
  },
  {
   "cell_type": "code",
   "execution_count": null,
   "metadata": {},
   "outputs": [],
   "source": [
    "@pn.depends(dates,start_time,concat_day,model_name,site_name)\n",
    "def get_plot(dates,start_time,concat_day,model_name,site_name):\n",
    "    loading.value = True\n",
    "\n",
    "    variables = [\"hfls\",\"hfss\",\"rlus\",\"rlds\",\"rsus\",\"rsds\"]\n",
    "\n",
    "    urls_mod = get_urls_mod(dates[0],dates[1],start_time,model_name,site_name,variables,concat_day)\n",
    "    data_mod, error_mod = get_data(\"concatenated\",urls_mod,\"model\",concat_day)\n",
    "\n",
    "    if error_mod is not None:\n",
    "        pane = pn.pane.Alert(error_mod)\n",
    "        loading.value = False\n",
    "        return pane\n",
    "    \n",
    "\n",
    "    st = data_mod['time'][0].values - (data_mod['time'][1].values-data_mod['time'][0].values)\n",
    "    time_index = data_mod['time'].values\n",
    "    time_index = np.insert(time_index, 0, st, axis=0)\n",
    "    \n",
    "    df = data_mod.to_dataframe()\n",
    "    df = df.reindex(time_index, fill_value=0)\n",
    "    \n",
    "    data = data_prep(df)\n",
    "    \n",
    "    plot = line_plot(data)\n",
    "    \n",
    "    plot.opts(title=\"This is a plot\",\n",
    "        ylabel=\"These are units\",\n",
    "        xlabel=\"This is time\",\n",
    "        width=600,\n",
    "        height=400,\n",
    "        legend_position='right',\n",
    "        legend_offset=(25,0)\n",
    "        ) \n",
    "    \n",
    "    loading.value = False\n",
    "    return plot\n",
    "\n"
   ]
  },
  {
   "attachments": {},
   "cell_type": "markdown",
   "metadata": {},
   "source": [
    "This following cell contains the function responsble for deploying the application. "
   ]
  },
  {
   "cell_type": "code",
   "execution_count": null,
   "metadata": {},
   "outputs": [],
   "source": [
    "pn.serve(pn.Column(\"insert name here\",get_plot, \n",
    "                   pn.Row(loading,pn.Column(model_name,site_name,variable,start_time),\n",
    "                    pn.Column(dates,concat_day)), \n",
    "                    width_policy=\"max\"))"
   ]
  },
  {
   "cell_type": "code",
   "execution_count": null,
   "metadata": {},
   "outputs": [],
   "source": []
  },
  {
   "cell_type": "code",
   "execution_count": null,
   "metadata": {},
   "outputs": [],
   "source": []
  },
  {
   "cell_type": "code",
   "execution_count": null,
   "metadata": {},
   "outputs": [],
   "source": []
  }
 ],
 "metadata": {
  "kernelspec": {
   "display_name": "Python 3",
   "language": "python",
   "name": "python3"
  },
  "language_info": {
   "codemirror_mode": {
    "name": "ipython",
    "version": 3
   },
   "file_extension": ".py",
   "mimetype": "text/x-python",
   "name": "python",
   "nbconvert_exporter": "python",
   "pygments_lexer": "ipython3",
   "version": "3.9.14"
  },
  "vscode": {
   "interpreter": {
    "hash": "e7370f93d1d0cde622a1f8e1c04877d8463912d04d973331ad4851f04de6915a"
   }
  }
 },
 "nbformat": 4,
 "nbformat_minor": 4
}
