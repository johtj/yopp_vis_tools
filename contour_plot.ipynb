{
 "cells": [
  {
   "cell_type": "code",
   "execution_count": null,
   "metadata": {},
   "outputs": [],
   "source": [
    "import xarray as xr\n",
    "import pandas as pd\n",
    "import numpy as np\n",
    "import matplotlib.pyplot as plt\n",
    "import panel as pn\n",
    "import datetime as dt\n",
    "from get_data import get_urls, get_model_data, get_obs_data, get_height_vars, calc_model_height\n",
    "from functools import partial"
   ]
  },
  {
   "cell_type": "code",
   "execution_count": null,
   "metadata": {},
   "outputs": [],
   "source": [
    "pn.extension()"
   ]
  },
  {
   "cell_type": "code",
   "execution_count": null,
   "metadata": {},
   "outputs": [],
   "source": [
    "#selection of site\n",
    "site_name = pn.widgets.Select(\n",
    "    name=\"Site\", options=['sodankyla','tiksi'], margin=(0, 20, 0, 0)\n",
    ")\n",
    "\n",
    "#user selection variable\n",
    "variable = pn.widgets.Select(\n",
    "    name=\"Variables\", options=['ta'], margin=(0, 20, 0, 0)\n",
    ")\n",
    "\n",
    "#selection of model\n",
    "model_name = pn.widgets.Select(\n",
    "    name=\"model\", options=['AROME-Arctic','ifs-ecmwf'], margin=(0, 20, 0, 0)\n",
    ")\n",
    "\n",
    "#user selection start and end date only sop 1 as of right now\n",
    "dates = pn.widgets.DateRangeSlider(\n",
    "    name='Date Range Slider',\n",
    "    start=dt.datetime(2018, 2, 1), end=dt.datetime(2018, 3, 31),\n",
    "    value=(dt.datetime(2018, 2, 1), dt.datetime(2018, 2, 4))\n",
    ")\n",
    "\n",
    "#user selection start time for model \n",
    "start_time = pn.widgets.Select(\n",
    "    name=\"Start time\", options=['00','12'], margin=(0, 20, 0, 0)\n",
    ")\n",
    "\n",
    "#user selection of which day should be fetched from the model files\n",
    "#for concat\n",
    "concat_day = pn.widgets.Select(\n",
    "    name=\"Model day selected\", options={1:0,2:1,3:2}, margin=(0,20,0,0)\n",
    ")\n",
    "\n",
    "top_height = pn.widgets.IntSlider(name='Integer Slider', start=100, end=12000, step=1000, value=100)\n"
   ]
  },
  {
   "cell_type": "code",
   "execution_count": null,
   "metadata": {},
   "outputs": [],
   "source": [
    "def contour(data_mod,variable,top_height):\n",
    "    \n",
    "    data_filtered = data_mod[data_mod['height'] < top_height+100].unstack()\n",
    "    var = data_filtered[variable].values\n",
    "    heights = data_filtered['height'].values\n",
    "    time = data_filtered.index.values\n",
    "    \n",
    "    time_w_dims = np.full(np.shape(var.T),time).T\n",
    "\n",
    "\n",
    "    fig0 = plt.figure(figsize=(10,5))\n",
    "    ax0 = fig0.subplots()\n",
    "    plot = ax0.contourf(time_w_dims,heights,var)\n",
    "    plt.ylim(top = top_height)\n",
    "    fig0.colorbar(plot)\n",
    "    \n",
    "    mpl_pane = pn.pane.Matplotlib(fig0, dpi=144)\n",
    "    mpl_pane.param.trigger('object')\n",
    "\n",
    "    return mpl_pane"
   ]
  },
  {
   "cell_type": "code",
   "execution_count": null,
   "metadata": {},
   "outputs": [],
   "source": [
    "@pn.depends(site_name,model_name,variable,dates,start_time,concat_day,top_height)\n",
    "def get_plot(site_name,model_name,variable,dates,start_time,concat_day,top_height):\n",
    "    #get data\n",
    "    variables = get_height_vars(model_name)\n",
    "    variables.append(variable)\n",
    "    urls = get_urls(dates[0],dates[1],start_time,model_name,site_name,variables,concat_day)\n",
    "    data_mod = get_model_data(\"concatenated\",urls[0],concat_day)\n",
    "    data_mod = calc_model_height(model_name,data_mod)\n",
    "    #=================\n",
    "    plot = contour(data_mod,variable,top_height)\n",
    "    return plot"
   ]
  },
  {
   "cell_type": "code",
   "execution_count": null,
   "metadata": {},
   "outputs": [],
   "source": [
    "pn.Column(\"scatter 2 sop 1\", get_plot, pn.Row(\n",
    "    pn.Column(site_name,model_name,variable),\n",
    "    pn.Column(dates,start_time,concat_day),\n",
    "    pn.Column(top_height)),width_policy=\"max\").servable()\n",
    "          "
   ]
  },
  {
   "cell_type": "code",
   "execution_count": null,
   "metadata": {},
   "outputs": [],
   "source": [
    "\n"
   ]
  },
  {
   "cell_type": "code",
   "execution_count": null,
   "metadata": {},
   "outputs": [],
   "source": []
  },
  {
   "cell_type": "code",
   "execution_count": null,
   "metadata": {},
   "outputs": [],
   "source": []
  },
  {
   "cell_type": "code",
   "execution_count": null,
   "metadata": {},
   "outputs": [],
   "source": []
  },
  {
   "cell_type": "code",
   "execution_count": null,
   "metadata": {},
   "outputs": [],
   "source": []
  },
  {
   "cell_type": "code",
   "execution_count": null,
   "metadata": {},
   "outputs": [],
   "source": []
  }
 ],
 "metadata": {
  "kernelspec": {
   "display_name": "Python 3",
   "language": "python",
   "name": "python3"
  },
  "language_info": {
   "codemirror_mode": {
    "name": "ipython",
    "version": 3
   },
   "file_extension": ".py",
   "mimetype": "text/x-python",
   "name": "python",
   "nbconvert_exporter": "python",
   "pygments_lexer": "ipython3",
   "version": "3.8.10"
  }
 },
 "nbformat": 4,
 "nbformat_minor": 4
}
