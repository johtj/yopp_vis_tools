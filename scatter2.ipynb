{
 "cells": [
  {
   "cell_type": "code",
   "execution_count": null,
   "metadata": {},
   "outputs": [],
   "source": [
    "import xarray as xr\n",
    "import pandas as pd\n",
    "import numpy as np\n",
    "import holoviews as hv\n",
    "import panel as pn\n",
    "import datetime as dt\n",
    "from get_data import get_urls, get_model_data, get_obs_data"
   ]
  },
  {
   "cell_type": "code",
   "execution_count": null,
   "metadata": {},
   "outputs": [],
   "source": [
    "hv.extension(\"bokeh\")\n",
    "pn.extension()"
   ]
  },
  {
   "cell_type": "code",
   "execution_count": null,
   "metadata": {},
   "outputs": [],
   "source": [
    "def calc_windspeed(u_a,v_a):\n",
    "    #only for 10-m\n",
    "    windspeed_calc = lambda u,v: (np.sqrt(u*u+v*v))\n",
    "    windspeed = u_a.combine(v_a,windspeed_calc)\n",
    "    \n",
    "    return windspeed\n",
    "\n",
    "def calc_ustar(tau_u,tau_v):\n",
    "    #only for 10-m\n",
    "    u_star_calc = lambda u,v: (np.sqrt(np.sqrt(u*u + v*v)))\n",
    "    ustar = tau_u.combine(tau_v,u_star_calc)\n",
    "    \n",
    "    return ustar\n",
    "\n",
    "def calc_scaledHeatFlux(hf,wspeed):\n",
    "    scaledHF_calc = lambda u,v: (u/v)\n",
    "    scaledHF = hf.combine(wspeed, scaledHF_calc)\n",
    "    return scaledHF\n",
    "\n",
    "def calc_gradient(ref, s):\n",
    "    calc_grad = lambda u,v: (u-v)\n",
    "    grad = ref.combine(s,calc_grad)\n",
    "    return grad"
   ]
  },
  {
   "cell_type": "code",
   "execution_count": null,
   "metadata": {},
   "outputs": [],
   "source": [
    "#selection of site\n",
    "site_name = pn.widgets.Select(\n",
    "    name=\"Site\", options=['sodankyla','tiksi'], margin=(0, 20, 0, 0)\n",
    ")\n",
    "\n",
    "#selection of model\n",
    "model_name = pn.widgets.Select(\n",
    "    name=\"model\", options=['AROME-Arctic','ifs-ecmwf'], margin=(0, 20, 0, 0)\n",
    ")\n",
    "#selection of case to plot\n",
    "case = pn.widgets.Select(\n",
    "    name=\"Case\", options={\"Ustar vs. Windspeed\":\"case1\",\"Scaled heat flux vs. temperature gradient\":\"case2\"}, margin=(0, 20, 0, 0)\n",
    ")\n",
    "\n",
    "#user selection start and end date only sop 1 as of right now\n",
    "dates = pn.widgets.DateRangeSlider(\n",
    "    name='Date Range Slider',\n",
    "    start=dt.datetime(2018, 2, 1), end=dt.datetime(2018, 3, 31),\n",
    "    value=(dt.datetime(2018, 2, 1), dt.datetime(2018, 2, 4))\n",
    ")\n",
    "\n",
    "#user selection start time for model \n",
    "start_time = pn.widgets.Select(\n",
    "    name=\"Start time\", options=['00','12'], margin=(0, 20, 0, 0)\n",
    ")\n",
    "\n",
    "#user selection of which day should be fetched from the model files\n",
    "#for concat\n",
    "concat_day = pn.widgets.Select(\n",
    "    name=\"Model day selected\", options={1:0,2:1,3:2}, margin=(0,20,0,0)\n",
    ")\n",
    "\n",
    "#TO DO: add dependecy so that 1-1 toggles line reg off and vice versa\n",
    "line_reg = pn.widgets.Checkbox(name='Linear regression')\n",
    "one_one = pn.widgets.Checkbox(name='1 to 1 line')"
   ]
  },
  {
   "cell_type": "code",
   "execution_count": null,
   "metadata": {},
   "outputs": [],
   "source": [
    "def scatter2(x,y):\n",
    "    plot =  hv.Points((x,y))\n",
    "    return plot\n",
    "    "
   ]
  },
  {
   "cell_type": "code",
   "execution_count": null,
   "metadata": {},
   "outputs": [],
   "source": [
    "@pn.depends(site_name, model_name,case,dates, concat_day,start_time)\n",
    "def scatter_2(site_name,model_name,case, dates, concat_day,start_time):\n",
    "\n",
    "    if case == \"case1\":\n",
    "        #ustar vs. windspeed\n",
    "        variables = ['tauu','tauv','uas','vas']\n",
    "        #=====================\n",
    "        #get data\n",
    "        urls = get_urls(dates[0],dates[1],start_time,model_name,site_name,variables,concat_day)\n",
    "        data_mod = get_model_data(\"concatenated\",urls[0],concat_day)\n",
    "        #====================\n",
    "        #calculate relevant things\n",
    "        wspeed = calc_windspeed(data_mod['uas'],data_mod['vas'])\n",
    "        ustar = calc_ustar(data_mod['tauu'],data_mod['tauv'])\n",
    "        #====================\n",
    "        #plot\n",
    "        plot = scatter2(wspeed,ustar)\n",
    "        plot.opts(title=\"Scatter 2: \"+\"Ustar vs. windspeed\"+'\\n'+' '+model_name+' '+site_name,\n",
    "        ylabel=\"Ustar\",\n",
    "        xlabel=\"Windspeed\",\n",
    "        width=600,\n",
    "        height=600\n",
    "        )\n",
    "         \n",
    "    elif case == \"case2\":\n",
    "        #scaled heat flux and temperature gradient\n",
    "        variables = ['hfss','uas','vas','ts','tas']\n",
    "        #====================\n",
    "        #get data\n",
    "        urls = get_urls(dates[0],dates[1],start_time,model_name,site_name,variables,concat_day)\n",
    "        data_mod = get_model_data(\"concatenated\",urls[0],concat_day)\n",
    "        #====================\n",
    "        #calculate relevant things\n",
    "        wspeed = calc_windspeed(data_mod['uas'],data_mod['vas'])\n",
    "        scHF = calc_scaledHeatFlux(data_mod['hfss'],wspeed)\n",
    "        t_grad = calc_gradient(data_mod['tas'],data_mod['ts']) \n",
    "        #====================\n",
    "        #plot\n",
    "        plot = scatter2(t_grad,scHF)\n",
    "        plot.opts(title=\"Scatter 2: \"+\"Scaled heat flux vs. temperature gradient\"+'\\n'+' '+model_name+' '+site_name,\n",
    "        ylabel=\"Scaled heat flux\",\n",
    "        xlabel=\"Temperature gradient\",\n",
    "        width=600,\n",
    "        height=600\n",
    "        )\n",
    "        \n",
    "    elif case == \"case3\":\n",
    "        #scaled water vapor flux and humidity gradient\n",
    "        #hfls scaled with windspeed in same way\n",
    "        variables = ['huss','hus','hfls','uas','vas']\n",
    "        #lowest model level for hus minus 2m (huss)\n",
    "        #get data\n",
    "        urls = get_urls(dates[0],dates[1],start_time,model_name,site_name,variables,concat_day)\n",
    "        data_mod = get_model_data(\"concatenated\",urls[0],concat_day)\n",
    "        #===========================\n",
    "        wspeed = calc_windspeed(data_mod['uas'],data_mod['vas'])\n",
    "        scHF = calc_scaledHeatFlux(data_mod['hfls'],wspeed)\n",
    "        lowest_level_h = data_mod['hus'] #take lowest model level\n",
    "        h_grad = calc_gradient(lowest_level_h,data_mod['huss'])\n",
    "        plot = scatter2(h_grad,scHF) \n",
    "    return plot"
   ]
  },
  {
   "cell_type": "code",
   "execution_count": null,
   "metadata": {
    "scrolled": true
   },
   "outputs": [],
   "source": [
    "pn.Column(\"scatter 2 sop 1\", scatter_2,pn.Row(pn.Column(case,site_name,model_name),pn.Column(dates, concat_day,start_time)),width_policy=\"max\").servable()\n"
   ]
  },
  {
   "cell_type": "code",
   "execution_count": null,
   "metadata": {},
   "outputs": [],
   "source": []
  },
  {
   "cell_type": "code",
   "execution_count": null,
   "metadata": {},
   "outputs": [],
   "source": []
  },
  {
   "cell_type": "code",
   "execution_count": null,
   "metadata": {},
   "outputs": [],
   "source": []
  },
  {
   "cell_type": "code",
   "execution_count": null,
   "metadata": {},
   "outputs": [],
   "source": []
  },
  {
   "cell_type": "code",
   "execution_count": null,
   "metadata": {},
   "outputs": [],
   "source": []
  },
  {
   "cell_type": "code",
   "execution_count": null,
   "metadata": {},
   "outputs": [],
   "source": []
  },
  {
   "cell_type": "code",
   "execution_count": null,
   "metadata": {},
   "outputs": [],
   "source": []
  }
 ],
 "metadata": {
  "kernelspec": {
   "display_name": "Python 3",
   "language": "python",
   "name": "python3"
  },
  "language_info": {
   "codemirror_mode": {
    "name": "ipython",
    "version": 3
   },
   "file_extension": ".py",
   "mimetype": "text/x-python",
   "name": "python",
   "nbconvert_exporter": "python",
   "pygments_lexer": "ipython3",
   "version": "3.8.10"
  }
 },
 "nbformat": 4,
 "nbformat_minor": 4
}
