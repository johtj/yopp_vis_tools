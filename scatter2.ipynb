{
 "cells": [
  {
   "cell_type": "code",
   "execution_count": null,
   "metadata": {},
   "outputs": [],
   "source": [
    "import numpy as np\n",
    "import holoviews as hv\n",
    "import panel as pn\n",
    "import datetime as dt\n",
    "from get_data import get_urls_mod, get_urls_obs, get_data"
   ]
  },
  {
   "cell_type": "code",
   "execution_count": null,
   "metadata": {},
   "outputs": [],
   "source": [
    "hv.extension(\"bokeh\")\n",
    "pn.extension()"
   ]
  },
  {
   "attachments": {},
   "cell_type": "markdown",
   "metadata": {},
   "source": [
    "# Use-case: Scatter 2"
   ]
  },
  {
   "attachments": {},
   "cell_type": "markdown",
   "metadata": {},
   "source": [
    "## Introduction"
   ]
  },
  {
   "attachments": {},
   "cell_type": "markdown",
   "metadata": {},
   "source": [
    "This file contains the code for generating a scatter plot for three sub-cases.\n",
    "\n",
    "Code responsible for fetching data can be found in read_data.py\n",
    "\n",
    "This plotting tool as been generated for the Year Of Polar Prediction site Model Intercomparison Project, YOPPsiteMIP\n"
   ]
  },
  {
   "attachments": {},
   "cell_type": "markdown",
   "metadata": {},
   "source": [
    "# Code"
   ]
  },
  {
   "attachments": {},
   "cell_type": "markdown",
   "metadata": {},
   "source": [
    "The following cell contains the functions responsible for calcuating the windspeed, ustar, scaled heat-flux and temperature/humidity gradient. \n",
    "These functions are used in the three sub-cases producing scatter plots for:\n",
    "* Ustar vs. windspeed\n",
    "* Scaled heat-flux vs. temperature gradient\n",
    "* Scaled watervapor-flux vs. humidity gradient"
   ]
  },
  {
   "cell_type": "code",
   "execution_count": null,
   "metadata": {},
   "outputs": [],
   "source": [
    "def calc_windspeed(u_a,v_a):\n",
    "    #only for 10-m\n",
    "    u_a.columns = ['comp']\n",
    "    v_a.columns = ['comp']\n",
    "    windspeed_calc = lambda u,v: (np.sqrt(u*u+v*v))\n",
    "    windspeed = u_a.combine(v_a,windspeed_calc)\n",
    "    return windspeed\n",
    "\n",
    "def calc_ustar(tau_u,tau_v):\n",
    "    #only for 10-m\n",
    "    tau_u.columns = ['comp']\n",
    "    tau_v.columns = ['comp']\n",
    "    u_star_calc = lambda u,v: (np.sqrt(np.sqrt(u*u + v*v)))\n",
    "    ustar = tau_u.combine(tau_v,u_star_calc)\n",
    "    \n",
    "    return ustar\n",
    "\n",
    "def calc_scaledHeatFlux(hf,wspeed):\n",
    "    hf.columns = ['comp']\n",
    "    wspeed.columns = ['comp']\n",
    "    scaledHF_calc = lambda u,v: (u/v)\n",
    "    scaledHF = hf.combine(wspeed, scaledHF_calc)\n",
    "    return scaledHF\n",
    "\n",
    "def calc_gradient(ref, s):\n",
    "    ref.columns = ['comp']\n",
    "    s.columns = ['comp']\n",
    "    calc_grad = lambda u,v: (u-v)\n",
    "    grad = ref.combine(s,calc_grad)\n",
    "    return grad"
   ]
  },
  {
   "attachments": {},
   "cell_type": "markdown",
   "metadata": {},
   "source": [
    "The following cell is responsible for populating the widgets that enable user-selectability."
   ]
  },
  {
   "cell_type": "code",
   "execution_count": null,
   "metadata": {},
   "outputs": [],
   "source": [
    "#selection of site\n",
    "site_name = pn.widgets.Select(\n",
    "    name=\"Site\", options=['sodankyla','tiksi'], margin=(0, 20, 0, 0)\n",
    ")\n",
    "\n",
    "#selection of model\n",
    "model_name = pn.widgets.Select(\n",
    "    name=\"model\", options=['AROME-Arctic','ifs-ecmwf'], value=\"ifs-ecmwf\",margin=(0, 20, 0, 0)\n",
    ")\n",
    "#selection of case to plot\n",
    "case = pn.widgets.Select(\n",
    "    name=\"Case\", options={\"Ustar vs. Windspeed\":\"case1\",\n",
    "                          \"Scaled heat flux vs. temperature gradient\":\"case2\",\n",
    "                          \"Scaled water vapor flux and humidity gradient\":\"case3\"}, margin=(0, 20, 0, 0)\n",
    ")\n",
    "\n",
    "#user selection start and end date only sop 1 as of right now\n",
    "dates = pn.widgets.DateRangeSlider(\n",
    "    name='Date Range Slider',\n",
    "    start=dt.datetime(2018, 2, 1), end=dt.datetime(2018, 3, 31),\n",
    "    value=(dt.datetime(2018, 2, 1), dt.datetime(2018, 2, 4))\n",
    ")\n",
    "\n",
    "#user selection start time for model \n",
    "start_time = pn.widgets.Select(\n",
    "    name=\"Start time\", options=['00','12'], margin=(0, 20, 0, 0)\n",
    ")\n",
    "\n",
    "#user selection of which day should be fetched from the model files\n",
    "#for concat\n",
    "concat_day = pn.widgets.Select(\n",
    "    name=\"Model day selected\", options={1:0,2:1,3:2}, margin=(0,20,0,0)\n",
    ")\n",
    "\n",
    "\n",
    "added_stats = pn.widgets.ToggleGroup(name='Additions', options=['None','Linear Regression','1-to-1 Line'], behavior=\"radio\")\n",
    "\n",
    "loading = pn.indicators.LoadingSpinner(value=False, width=100, height=100)"
   ]
  },
  {
   "attachments": {},
   "cell_type": "markdown",
   "metadata": {},
   "source": [
    "The following cell is responsible for generating the scatter plot."
   ]
  },
  {
   "cell_type": "code",
   "execution_count": null,
   "metadata": {},
   "outputs": [],
   "source": [
    "def scatter2(x,y):\n",
    "    plot =  hv.Points((x['comp'],y['comp']))\n",
    "    return plot\n",
    "    "
   ]
  },
  {
   "attachments": {},
   "cell_type": "markdown",
   "metadata": {},
   "source": [
    "The following cell contains the main function responsible for calling the data fetching, calculation and plotting routines.\n",
    "It handles the specifics of the sub-cases, calling the relevant functions and specializing the plots. "
   ]
  },
  {
   "cell_type": "code",
   "execution_count": null,
   "metadata": {},
   "outputs": [],
   "source": [
    "@pn.depends(site_name, model_name,case,dates, concat_day,start_time)\n",
    "def scatter_2(site_name,model_name,case, dates, concat_day,start_time):\n",
    "    loading.value = True\n",
    "    if case == \"case1\":\n",
    "        #ustar vs. windspeed\n",
    "        variables = ['tauu','tauv','uas','vas']\n",
    "        #=====================\n",
    "        #get data\n",
    "        urls_mod = get_urls_mod(dates[0],dates[1],start_time,model_name,site_name,variables,concat_day)\n",
    "        data_mod,error_mod = get_data(\"concatenated\",urls_mod,\"model\",concat_day)\n",
    "        if error_mod is not None:\n",
    "            #loading.value = False\n",
    "            pane = pn.pane.Alert(error_mod)\n",
    "            loading.value = False\n",
    "            return pane\n",
    "        \n",
    "        #====================\n",
    "        #calculate relevant things\n",
    "        wspeed = calc_windspeed(data_mod['uas'].to_dataframe(),data_mod['vas'].to_dataframe())\n",
    "        ustar = calc_ustar(data_mod['tauu'].to_dataframe(),data_mod['tauv'].to_dataframe())\n",
    "        #====================\n",
    "        #plot\n",
    "        plot = scatter2(wspeed,ustar)\n",
    "        \n",
    "        plot.opts(title=\"Scatter 2: \"+\"Ustar vs. windspeed\"+'\\n'+' '+model_name+' '+site_name,\n",
    "        ylabel=\"Ustar\",\n",
    "        xlabel=\"Windspeed\",\n",
    "        width=400,\n",
    "        height=400\n",
    "        ) \n",
    "    elif case == \"case2\":\n",
    "        #scaled heat flux and temperature gradient\n",
    "        variables = ['hfss','uas','vas','ts','tas']\n",
    "        #====================\n",
    "        #get data\n",
    "        urls_mod = get_urls_mod(dates[0],dates[1],start_time,model_name,site_name,variables,concat_day)\n",
    "        data_mod,error_mod = get_data(\"concatenated\",urls_mod,\"model\",concat_day)\n",
    "        if error_mod is not None:\n",
    "            #\n",
    "            pane = pn.pane.Alert(error_mod)\n",
    "            loading.value = False\n",
    "            return pane\n",
    "        #====================\n",
    "        #calculate relevant things\n",
    "        wspeed = calc_windspeed(data_mod['uas'].to_dataframe(),data_mod['vas'].to_dataframe())\n",
    "        scHF = calc_scaledHeatFlux(data_mod['hfss'].to_dataframe(),wspeed)\n",
    "        t_grad = calc_gradient(data_mod['tas'].to_dataframe(),data_mod['ts'].to_dataframe()) \n",
    "        #====================\n",
    "        #plot\n",
    "        plot = scatter2(t_grad,scHF)\n",
    "        plot.opts(title=\"Scatter 2: \"+\"Scaled heat flux vs.\"+'\\n'+\" temperature gradient\"+'\\n'+' '+model_name+' '+site_name,\n",
    "        ylabel=\"Scaled heat flux\",\n",
    "        xlabel=\"Temperature gradient\",\n",
    "        width=400,\n",
    "        height=400\n",
    "        )\n",
    "        \n",
    "    elif case == \"case3\":\n",
    "        #scaled water vapor flux and humidity gradient\n",
    "        #hfls scaled with windspeed in same way\n",
    "        variables = ['huss','hus','hfls','uas','vas']\n",
    "        #lowest model level for hus minus 2m (huss)\n",
    "        #get data\n",
    "        urls_mod = get_urls_mod(dates[0],dates[1],start_time,model_name,site_name,variables,concat_day)\n",
    "        data_mod,error_mod = get_data(\"concatenated\",urls_mod,\"model\",concat_day)\n",
    "        if error_mod is not None:\n",
    "            #loading.value = False\n",
    "            pane = pn.pane.Alert(error_mod)\n",
    "            loading.value = False\n",
    "            return pane  \n",
    "        #===========================\n",
    "     \n",
    "        wspeed = calc_windspeed(data_mod['uas'].to_dataframe(),data_mod['vas'].to_dataframe())\n",
    "        scHF = calc_scaledHeatFlux(data_mod['hfls'].to_dataframe(),wspeed)\n",
    "        levels_h = data_mod['hus'].to_dataframe() #take lowest model level\n",
    "        lowest_level_h = levels_h.loc(axis=0)[:,0].droplevel('level')\n",
    "        h_grad = calc_gradient(lowest_level_h,data_mod['huss'].to_dataframe())\n",
    "        plot = scatter2(h_grad,scHF) \n",
    "\n",
    "        plot.opts(title=\"Scatter 2: \"+\"Scaled water vapor flux vs. humidity gradient\"+'\\n'+' '+model_name+' '+site_name,\n",
    "        ylabel=\"Scaled heat flux\",\n",
    "        xlabel=\"Humidity gradient\",\n",
    "        width=400,\n",
    "        height=400\n",
    "        ) \n",
    "\n",
    "    loading.value = False    \n",
    "    \n",
    "    return plot"
   ]
  },
  {
   "attachments": {},
   "cell_type": "markdown",
   "metadata": {},
   "source": [
    "The following cell contains the code responsible for deploying the application."
   ]
  },
  {
   "cell_type": "code",
   "execution_count": null,
   "metadata": {
    "scrolled": false
   },
   "outputs": [],
   "source": [
    "pn.serve(pn.Column(\"scatter 2 sop 1\", scatter_2,\n",
    "                   pn.Row(loading,pn.Column(case,site_name,model_name),\n",
    "                          pn.Column(dates, concat_day,start_time)),\n",
    "                   width_policy=\"max\"))\n"
   ]
  },
  {
   "cell_type": "code",
   "execution_count": null,
   "metadata": {},
   "outputs": [],
   "source": []
  },
  {
   "cell_type": "code",
   "execution_count": null,
   "metadata": {},
   "outputs": [],
   "source": []
  },
  {
   "cell_type": "code",
   "execution_count": null,
   "metadata": {},
   "outputs": [],
   "source": []
  },
  {
   "cell_type": "code",
   "execution_count": null,
   "metadata": {},
   "outputs": [],
   "source": []
  },
  {
   "cell_type": "code",
   "execution_count": null,
   "metadata": {},
   "outputs": [],
   "source": []
  },
  {
   "cell_type": "code",
   "execution_count": null,
   "metadata": {},
   "outputs": [],
   "source": []
  },
  {
   "cell_type": "code",
   "execution_count": null,
   "metadata": {},
   "outputs": [],
   "source": []
  }
 ],
 "metadata": {
  "kernelspec": {
   "display_name": "Python 3",
   "language": "python",
   "name": "python3"
  },
  "language_info": {
   "codemirror_mode": {
    "name": "ipython",
    "version": 3
   },
   "file_extension": ".py",
   "mimetype": "text/x-python",
   "name": "python",
   "nbconvert_exporter": "python",
   "pygments_lexer": "ipython3",
   "version": "3.9.14"
  },
  "vscode": {
   "interpreter": {
    "hash": "e7370f93d1d0cde622a1f8e1c04877d8463912d04d973331ad4851f04de6915a"
   }
  }
 },
 "nbformat": 4,
 "nbformat_minor": 4
}
