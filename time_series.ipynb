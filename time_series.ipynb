{
 "cells": [
  {
   "cell_type": "code",
   "execution_count": null,
   "metadata": {},
   "outputs": [],
   "source": [
    "import xarray as xr\n",
    "import pandas as pd\n",
    "from holoviews import opts\n",
    "import holoviews as hv\n",
    "import panel as pn\n",
    "import numpy as np\n",
    "import datetime as dt\n",
    "from get_data import get_urls_mod,get_urls_obs, get_data\n",
    "from basic_widgets import create_widgets, populate_vars_1D\n",
    "from bokeh.models import HoverTool"
   ]
  },
  {
   "cell_type": "code",
   "execution_count": null,
   "metadata": {},
   "outputs": [],
   "source": [
    "hv.extension('bokeh')\n",
    "pn.extension()"
   ]
  },
  {
   "cell_type": "markdown",
   "metadata": {},
   "source": [
    "# Use-case: Time Series"
   ]
  },
  {
   "cell_type": "markdown",
   "metadata": {},
   "source": [
    "## Introduction"
   ]
  },
  {
   "cell_type": "markdown",
   "metadata": {},
   "source": [
    "This file contains the code for generating a time series plot for one model for a specific site and time and variable as well as corresponding observation. (OBSERVATION TO BE ADDED WHEN THEY EXIST IN PORTAL)\n",
    "\n",
    "The code for the functions for fetching data can be found in read_data.py\n",
    "\n",
    "This plotting tool as been generated for the Year Of Polar Prediction site Model Intercomparison Project, YOPPsiteMIP"
   ]
  },
  {
   "cell_type": "markdown",
   "metadata": {},
   "source": [
    "## Code"
   ]
  },
  {
   "cell_type": "markdown",
   "metadata": {},
   "source": [
    "The following cell contains the functions responsible for plotting the data. \n",
    "\n",
    "This use-case has two scenarios, which are user-selectable through widgets.\n",
    "\n",
    "- The first where all the model files for a time period are plotted in full, which leads to overlap between         their shared dates.\n",
    "\n",
    "- The second is where only one day is selected per model (wheater it be the first,second or third day is user-selectable) and are concatinated into one non-overlapping time series. "
   ]
  },
  {
   "cell_type": "code",
   "execution_count": null,
   "metadata": {},
   "outputs": [],
   "source": [
    "def plot_ts_stacked(data_mod,data_obs,variable):\n",
    "    plots = []\n",
    "    \n",
    "    for item in data_mod.columns.get_level_values(1):\n",
    "        p = hv.Curve((data_mod.index,data_mod[variable][item])).opts(\n",
    "            tools=[\n",
    "                HoverTool(\n",
    "                    tooltips=[\n",
    "                        (\"Label\",\"Model\"),\n",
    "                        (\"Start date\",str(data_mod[variable][item].first_valid_index())),\n",
    "                        (\"End date\", str(data_mod[variable][item].last_valid_index()))\n",
    "                    ],\n",
    "                    toggleable=False\n",
    "                )\n",
    "            ])\n",
    "        plots.append(p)\n",
    "    plot_obs = hv.Curve(data_obs, label= \"Observation\")\n",
    "    plot_obs.opts(color = \"black\")\n",
    "    plots.append(plot_obs)\n",
    "    plot = hv.Overlay(plots)\n",
    "\n",
    "    return plot\n",
    "\n",
    "def plot_ts_concat(data_mod,data_obs,variable):\n",
    "    plot_mod = hv.Curve((data_mod.index,data_mod[variable]),label = \"Model\")\n",
    "    plot_obs = hv.Curve((data_obs),label = \"Observation\")\n",
    "    plot_obs.opts(color = \"black\")\n",
    "    plot = hv.Overlay([plot_mod,plot_obs])\n",
    "    plot\n",
    "    return plot"
   ]
  },
  {
   "cell_type": "markdown",
   "metadata": {},
   "source": [
    "The code in the following cell is responsible for the widgets that enable user-selectability. \n",
    "TO DO: populate variables dynamically"
   ]
  },
  {
   "cell_type": "code",
   "execution_count": null,
   "metadata": {
    "scrolled": false
   },
   "outputs": [],
   "source": [
    "#widgets for user selection of model, plot type, site, variable, start time and date range\n",
    "#most selections will be expanded in the near fututre to include all relevant variables,\n",
    "#models and sites. \n",
    "#there will also be a selection of SOP1 and SOP2, currently the dates are only SOP1\n",
    "types = pn.widgets.Select(\n",
    "    name=\"types\", options=['concatenated','stacked'],value='concatenated', margin=(0, 20, 0, 0)\n",
    ")\n",
    "\n",
    "#dictionary = populate_vars_1D()\n",
    "#widgets = create_widgets(dictionary)\n",
    "\n",
    "#site_name = widgets[0] \n",
    "site_name = pn.widgets.Select(\n",
    "    name=\"Site\", options=['tiksi','sodankyla'],value = 'tiksi', margin=(0, 20, 0, 0)\n",
    ")\n",
    "\n",
    "#model_name = widgets[1]\n",
    "model_name = pn.widgets.Select(\n",
    "    name=\"model\", options=['slav-rhmc','ifs-ecmwf'], margin=(0, 20, 0, 0)\n",
    ")\n",
    "\n",
    "#user selection variable\n",
    "variable = pn.widgets.Select(\n",
    "    name=\"Variables\", options=['tas','ts','meep'], margin=(0, 20, 0, 0)\n",
    ")\n",
    "#variable = widgets[2]\n",
    "\n",
    "#dates = widgets[3]\n",
    "\n",
    "#concat_day = widgets[4]\n",
    "\n",
    "#start_time = widgets[5]\n",
    "\n",
    "#user selection start and end date only sop 1 as of right now\n",
    "dates = pn.widgets.DateRangeSlider(\n",
    "    name='Date Range Slider',\n",
    "    start=dt.datetime(2018, 2, 1), end=dt.datetime(2018, 3, 31),\n",
    "    value=(dt.datetime(2018, 2, 1), dt.datetime(2018, 2, 2))\n",
    ")\n",
    "\n",
    "#user selection start time for model \n",
    "start_time = pn.widgets.Select(\n",
    "    name=\"Start time\", options=['00','12'], margin=(0, 20, 0, 0)\n",
    ")\n",
    "\n",
    "#user selection of which day should be fetched from the model files\n",
    "#for concat\n",
    "concat_day = pn.widgets.Select(\n",
    "    name=\"Model day selected\", options={1:0,2:1,3:2},value=3, margin=(0,20,0,0)\n",
    ")\n",
    "\n",
    "loading = pn.indicators.LoadingSpinner(value=False, width=100, height=100)"
   ]
  },
  {
   "cell_type": "markdown",
   "metadata": {},
   "source": [
    "The following cell contains the function responsible for fetching the data and calling the plotting routines. "
   ]
  },
  {
   "cell_type": "code",
   "execution_count": null,
   "metadata": {},
   "outputs": [],
   "source": [
    "@pn.depends(types,site_name,model_name,variable,start_time,dates,concat_day)\n",
    "def main_timeseries(types,site_name,model_name,variable,start_time,dates,concat_day):\n",
    "    \n",
    "    loading.value = True\n",
    "    \n",
    "    urls_mod = get_urls_mod(dates[0],dates[1],start_time,model_name,site_name,[variable],concat_day)\n",
    "    url_obs = get_urls_obs(site_name,\"timeSeries\",\"1\")\n",
    "\n",
    "        \n",
    "    data_mod,error_mod = get_data(types,urls_mod,concat_day,\"model\")\n",
    "    data_obs, error_obs = get_data(\"observation\",url_obs,concat_day,\"observation\")\n",
    "    print(data_mod)\n",
    "\n",
    "    if error_mod is not None:\n",
    "        loading.value = False\n",
    "        pane = pn.pane.Alert(\"Fetching model: \"+error_mod)\n",
    "        return pane\n",
    "    elif error_obs is not None:\n",
    "        loading.value = False\n",
    "        return pn.pane.Alert(\"Fetching observations: \"+error_obs)\n",
    "    \n",
    "\n",
    "    data_mod = data_mod.to_dataframe()  \n",
    "    data_obs = data_obs[variable].to_dataframe()\n",
    " \n",
    "    if types == 'concatenated':\n",
    "        data_obs = data_obs[dates[0]:dates[1]+dt.timedelta(days=1)]\n",
    "        plot = plot_ts_concat(data_mod,data_obs, variable)\n",
    "        print(\"concat plot\")   \n",
    "    else:\n",
    "        data_obs = data_obs[dates[0]:dates[1]+dt.timedelta(days=3)]\n",
    "        plot = plot_ts_stacked(data_mod.unstack(),data_obs, variable)  \n",
    "        print(\"stacked plot\")\n",
    "\n",
    "    plot.opts(title=\"Timevar \"+variable+\" \"+model_name+\" \"+site_name,\n",
    "          width=900,\n",
    "          height=400,\n",
    "          ylabel=variable,\n",
    "          xlabel=\"time: \"+dates[0].strftime(\"%Y-%-m-%d\")+ \" - \" +dates[1].strftime(\"%Y-%-m-%d\")\n",
    "         )\n",
    "        \n",
    "    loading.value = False\n",
    "   \n",
    "    return plot"
   ]
  },
  {
   "cell_type": "markdown",
   "metadata": {},
   "source": [
    "The follwing cell contains the function responsible for deploying the application"
   ]
  },
  {
   "cell_type": "code",
   "execution_count": null,
   "metadata": {
    "scrolled": true
   },
   "outputs": [],
   "source": [
    "pn.serve(pn.Column(\"timevar 1 sop 1\", \n",
    "          main_timeseries,\n",
    "          pn.Row(loading,pn.Column(site_name,model_name,variable),\n",
    "                 pn.Column(types,start_time),pn.Column(dates,concat_day)),\n",
    "          width_policy=\"max\"))\n"
   ]
  },
  {
   "cell_type": "code",
   "execution_count": null,
   "metadata": {},
   "outputs": [],
   "source": []
  }
 ],
 "metadata": {
  "kernelspec": {
   "display_name": "Python 3",
   "language": "python",
   "name": "python3"
  },
  "language_info": {
   "codemirror_mode": {
    "name": "ipython",
    "version": 3
   },
   "file_extension": ".py",
   "mimetype": "text/x-python",
   "name": "python",
   "nbconvert_exporter": "python",
   "pygments_lexer": "ipython3",
   "version": "3.9.14"
  },
  "vscode": {
   "interpreter": {
    "hash": "e7370f93d1d0cde622a1f8e1c04877d8463912d04d973331ad4851f04de6915a"
   }
  }
 },
 "nbformat": 4,
 "nbformat_minor": 4
}
