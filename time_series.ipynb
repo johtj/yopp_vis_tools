{
 "cells": [
  {
   "cell_type": "code",
   "execution_count": null,
   "metadata": {},
   "outputs": [],
   "source": [
    "import xarray as xr\n",
    "import pandas as pd\n",
    "from matplotlib import pyplot as plt\n",
    "from holoviews import opts\n",
    "import holoviews as hv\n",
    "import panel as pn\n",
    "from thredds_crawler.crawl import Crawl\n",
    "import numpy as np\n",
    "import datetime as dt\n",
    "from get_data import get_urls, get_model_data, get_obs_data"
   ]
  },
  {
   "cell_type": "code",
   "execution_count": null,
   "metadata": {},
   "outputs": [],
   "source": [
    "hv.extension('bokeh')\n",
    "pn.extension()"
   ]
  },
  {
   "cell_type": "markdown",
   "metadata": {},
   "source": [
    "# Use-case: Time Series"
   ]
  },
  {
   "cell_type": "markdown",
   "metadata": {},
   "source": [
    "## Introduction"
   ]
  },
  {
   "cell_type": "markdown",
   "metadata": {},
   "source": [
    "This file contains the code for generating a time series plot for one model for a specific site and time and variable as well as corresponding observation. (OBSERVATION TO BE ADDED WHEN THEY EXIST IN PORTAL)\n",
    "\n",
    "The code for the functions for fetching data can be found in read_data.py\n",
    "\n",
    "This plotting tool as been generated for the Year Of Polar Prediction site Model Intercomparison Project, YOPPsiteMIP"
   ]
  },
  {
   "cell_type": "markdown",
   "metadata": {},
   "source": [
    "## Code"
   ]
  },
  {
   "cell_type": "markdown",
   "metadata": {},
   "source": [
    "The following cell contains the functions responsible for plotting the data. \n",
    "\n",
    "This use-case has two scenarios, which are user-selectable through widgets.\n",
    "\n",
    "- The first where all the model files for a time period are plotted in full, which leads to overlap between         their shared dates.\n",
    "\n",
    "- The second is where only one day is selected per model (wheater it be the first,second or third day is user-selectable) and are concatinated into one non-overlapping time series. "
   ]
  },
  {
   "cell_type": "code",
   "execution_count": null,
   "metadata": {},
   "outputs": [],
   "source": [
    "def plot_ts_stacked(data,variable):\n",
    "    plots = []\n",
    "    \n",
    "    for item in data.columns.get_level_values(1):\n",
    "        p = hv.Curve((data.index,data[variable][item])) \n",
    "        plots.append(p)\n",
    "        \n",
    "    plot = hv.Overlay(plots)\n",
    "\n",
    "    return plot\n",
    "\n",
    "def plot_ts_concat(data,variable):\n",
    "    plot = hv.Curve((data.index,data[variable]))\n",
    "    return plot"
   ]
  },
  {
   "cell_type": "markdown",
   "metadata": {},
   "source": [
    "The code in the following cell is responsible for the widgets that enable user-selectability. \n",
    "\n",
    "TO DO: populate variables based on available variables in the requested files\n",
    "TO DO: add SOP choice\n",
    "TO DO: populate date slider based on SOP1 or SOP2 choice\n",
    "\n",
    "give user choice based on site, model or both?\n",
    "makes sense to choose site then give model selection based on models availabe for that site."
   ]
  },
  {
   "cell_type": "code",
   "execution_count": null,
   "metadata": {},
   "outputs": [],
   "source": [
    "#widgets for user selection of model, plot type, site, variable, start time and date range\n",
    "#most selections will be expanded in the near fututre to include all relevant variables,\n",
    "#models and sites. \n",
    "#there will also be a selection of SOP1 and SOP2, currently the dates are only SOP1\n",
    "types = pn.widgets.Select(\n",
    "    name=\"types\", options=['stacked','concatenated'], margin=(0, 20, 0, 0)\n",
    ")\n",
    "variable = pn.widgets.Select(\n",
    "    name=\"Variables\", options=['tas','snd'], margin=(0, 20, 0, 0)\n",
    ")\n",
    "site_name = pn.widgets.Select(\n",
    "    name=\"Site\", options=['sodankyla','tiksi'], margin=(0, 20, 0, 0)\n",
    ")\n",
    "model_name = pn.widgets.Select(\n",
    "    name=\"model\", options=['ifs-ecmwf','AROME-Arctic'], margin=(0, 20, 0, 0)\n",
    ")\n",
    "\n",
    "start_time = pn.widgets.Select(\n",
    "    name=\"Start time\", options=['00','12'], margin=(0, 20, 0, 0)\n",
    ")\n",
    "\n",
    "dates = pn.widgets.DateRangeSlider(\n",
    "    name='Date Range Slider',\n",
    "    start=dt.datetime(2018, 2, 2), end=dt.datetime(2018, 3, 31),\n",
    "    value=(dt.datetime(2018, 2, 2), dt.datetime(2018, 3, 31))\n",
    ")\n",
    "\n",
    "concat_day = pn.widgets.Select(\n",
    "    name=\"Model day selected\", options={1:0,2:1,3:2}, margin=(0,20,0,0)\n",
    ")"
   ]
  },
  {
   "cell_type": "markdown",
   "metadata": {},
   "source": [
    "The following cell contains the function responsible for fetching the data and calling the plotting routines. "
   ]
  },
  {
   "cell_type": "code",
   "execution_count": null,
   "metadata": {},
   "outputs": [],
   "source": [
    "@pn.depends(types,variable,site_name,model_name,start_time,dates,concat_day)\n",
    "def main_timeseries(types,variable,site_name,model_name,start_time,dates,concat_day):\n",
    "    \n",
    "    urls_mod, urls_obs = get_urls(dates[0],dates[1],start_time,model_name,site_name,variable,concat_day)\n",
    "    \n",
    "    data = get_model_data(types,urls_mod,concat_day)\n",
    "    \n",
    "    if types == 'concatenated':\n",
    "        plot = plot_ts_concat(data, variable)\n",
    "        \n",
    "    else:\n",
    "        plot = plot_ts_stacked(data, variable)  \n",
    "    plot.opts(title=\"Timevar \"+variable+\" \"+model_name+\" \"+site_name,\n",
    "          width=1200,\n",
    "          height=400,\n",
    "          ylabel=variable,\n",
    "          xlabel=\"time: \"+data.index[0].strftime(\"%Y-%-m-%d\")+ \" - \" +data.index[-1].strftime(\"%Y-%-m-%d\")\n",
    "         )\n",
    "    return plot"
   ]
  },
  {
   "cell_type": "markdown",
   "metadata": {},
   "source": [
    "The follwing cell contains the function responsible for deploying the application"
   ]
  },
  {
   "cell_type": "code",
   "execution_count": null,
   "metadata": {},
   "outputs": [],
   "source": [
    "pn.Column(\"timevar 1 sop 1\", main_timeseries,pn.Row(pn.Column(site_name,model_name,variable),pn.Column(types,start_time),pn.Column(dates,concat_day)),width_policy=\"max\").servable()"
   ]
  },
  {
   "cell_type": "code",
   "execution_count": null,
   "metadata": {},
   "outputs": [],
   "source": []
  },
  {
   "cell_type": "code",
   "execution_count": null,
   "metadata": {},
   "outputs": [],
   "source": []
  }
 ],
 "metadata": {
  "kernelspec": {
   "display_name": "Python 3",
   "language": "python",
   "name": "python3"
  },
  "language_info": {
   "codemirror_mode": {
    "name": "ipython",
    "version": 3
   },
   "file_extension": ".py",
   "mimetype": "text/x-python",
   "name": "python",
   "nbconvert_exporter": "python",
   "pygments_lexer": "ipython3",
   "version": "3.8.10"
  }
 },
 "nbformat": 4,
 "nbformat_minor": 4
}
