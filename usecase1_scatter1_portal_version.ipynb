{
 "cells": [
  {
   "cell_type": "code",
   "execution_count": null,
   "metadata": {},
   "outputs": [],
   "source": [
    "import xarray as xr\n",
    "import pandas as pd\n",
    "import panel as pn\n",
    "import numpy as np\n",
    "import panel as pn\n",
    "from holoviews import opts\n",
    "import holoviews as hv\n",
    "from thredds_crawler.crawl import Crawl\n",
    "import datetime as dt\n",
    "from functools import partial\n",
    "from get_data import get_urls, get_model_data, get_obs_data"
   ]
  },
  {
   "cell_type": "code",
   "execution_count": null,
   "metadata": {},
   "outputs": [],
   "source": [
    "pn.extension()\n",
    "hv.extension(\"bokeh\")"
   ]
  },
  {
   "cell_type": "markdown",
   "metadata": {},
   "source": [
    "# Use-case: Scatter 1"
   ]
  },
  {
   "cell_type": "markdown",
   "metadata": {},
   "source": [
    "## Introduction "
   ]
  },
  {
   "cell_type": "markdown",
   "metadata": {},
   "source": [
    "This notebook contains the code for generating a scatter plot of model vs. observational data for a chosen site, model, variable and time.\n",
    "\n",
    "The code for fetching the data can be found in gt_data.py "
   ]
  },
  {
   "cell_type": "markdown",
   "metadata": {},
   "source": [
    "## Code "
   ]
  },
  {
   "cell_type": "code",
   "execution_count": null,
   "metadata": {},
   "outputs": [],
   "source": [
    "def merge_data(var_obs,var_mod,variable):\n",
    "    #rename column names to easier differentiate between values when combined\n",
    "    var_obs = var_obs.rename(columns={variable:\"var_obs\"})\n",
    "    var_mod = var_mod.rename(columns={variable:\"var_mod\"})\n",
    "    \n",
    "    #merges the dataframes based on matching time points, gets rid of all mismatches for time\n",
    "    if len(var_obs.index) < len(var_mod):\n",
    "        merged = var_obs.merge(var_mod, left_index=True, right_index=True, how='inner')\n",
    "    else:\n",
    "        merged = var_mod.merge(var_obs, left_index=True, right_index=True, how='inner')\n",
    "\n",
    "    return merged"
   ]
  },
  {
   "cell_type": "code",
   "execution_count": null,
   "metadata": {},
   "outputs": [],
   "source": [
    "#plots the data as a scatter plot with a linear regression \n",
    "#axies are kept constant \n",
    "def plot_scatter(data,var,line_reg,one_one):\n",
    "    \n",
    "    scatter = hv.Points(data)\n",
    "    \n",
    "    if line_reg:\n",
    "        linereg = hv.Slope.from_scatter(scatter)\n",
    "        linereg.opts(color = 'red')\n",
    "    \n",
    "        scatter_1 = scatter * linereg\n",
    "    elif one_one:\n",
    "        line = hv.Slope(1,0)\n",
    "        \n",
    "        scatter_1 = scatter*line\n",
    "    else:\n",
    "        scatter_1 = scatter\n",
    "    \n",
    "    bounds_upper = max(data.max().var_obs,data.max().var_mod)\n",
    "    bounds_lower = min(data.min().var_obs,data.min().var_mod)\n",
    "    \n",
    "    bounds = (bounds_lower,bounds_upper)\n",
    "     \n",
    "    scatter_1.opts(title=\"Scatter 1: \"+var+' '+data.index[0].strftime(\"%Y-%-m-%d\")+'-'+data.index[-1].strftime(\"%Y-%-m-%d\"),\n",
    "        ylabel=\"model\",\n",
    "        xlabel=\"observation\",\n",
    "        xlim = bounds,\n",
    "        ylim = bounds,\n",
    "        width=400,\n",
    "        height=400\n",
    "    )\n",
    "    \n",
    "    return scatter_1"
   ]
  },
  {
   "cell_type": "code",
   "execution_count": null,
   "metadata": {},
   "outputs": [],
   "source": [
    "#user selection variable\n",
    "variable = pn.widgets.Select(\n",
    "    name=\"Variables\", options=['tas','snd'], margin=(0, 20, 0, 0)\n",
    ")\n",
    "\n",
    "#user selection start and end date only sop 1 as of right now\n",
    "dates = pn.widgets.DateRangeSlider(\n",
    "    name='Date Range Slider',\n",
    "    start=dt.datetime(2018, 2, 1), end=dt.datetime(2018, 3, 31),\n",
    "    value=(dt.datetime(2018, 2, 1), dt.datetime(2018, 2, 4))\n",
    ")\n",
    "\n",
    "#user selection start time for model \n",
    "start_time = pn.widgets.Select(\n",
    "    name=\"Start time\", options=['00','12'], margin=(0, 20, 0, 0)\n",
    ")\n",
    "\n",
    "#user selection of which day should be fetched from the model files\n",
    "#for concat\n",
    "concat_day = pn.widgets.Select(\n",
    "    name=\"Model day selected\", options={1:0,2:1,3:2}, margin=(0,20,0,0)\n",
    ")\n",
    "\n",
    "#TO DO: add dependecy so that 1-1 toggles line reg off and vice versa\n",
    "line_reg = pn.widgets.Checkbox(name='Linear regression')\n",
    "one_one = pn.widgets.Checkbox(name='1 to 1 line')"
   ]
  },
  {
   "cell_type": "code",
   "execution_count": null,
   "metadata": {},
   "outputs": [],
   "source": [
    "@pn.depends(variable,dates,start_time,concat_day,line_reg,one_one)\n",
    "def scatter_plot(variable,dates,start_time,concat_day,line_reg,one_one):\n",
    "    urls_mod, urls_obs = get_urls(dates[0],dates[1],start_time,\"ifs-ecmwf\",\"sodankyla\",variable,concat_day)\n",
    "    \n",
    "    out_type='concatenated'\n",
    "    var_mod = get_model_data(out_type,urls_mod,concat_day)\n",
    "    var_obs = get_obs_data(urls_obs,dates[0],dates[1],variable)\n",
    "    \n",
    "    merged = merge_data(var_obs,var_mod,variable)\n",
    "    \n",
    "    plot = plot_scatter(merged,variable,line_reg,one_one)\n",
    "    return plot"
   ]
  },
  {
   "cell_type": "code",
   "execution_count": null,
   "metadata": {},
   "outputs": [],
   "source": [
    "pn.Column(\"scatter 1 sop 1\", scatter_plot,pn.Row(pn.Column(variable,start_time),pn.Column(dates,concat_day),pn.Column(one_one,line_reg)),width_policy=\"max\").servable()"
   ]
  },
  {
   "cell_type": "code",
   "execution_count": null,
   "metadata": {},
   "outputs": [],
   "source": []
  },
  {
   "cell_type": "code",
   "execution_count": null,
   "metadata": {},
   "outputs": [],
   "source": []
  },
  {
   "cell_type": "code",
   "execution_count": null,
   "metadata": {},
   "outputs": [],
   "source": []
  }
 ],
 "metadata": {
  "kernelspec": {
   "display_name": "Python 3",
   "language": "python",
   "name": "python3"
  },
  "language_info": {
   "codemirror_mode": {
    "name": "ipython",
    "version": 3
   },
   "file_extension": ".py",
   "mimetype": "text/x-python",
   "name": "python",
   "nbconvert_exporter": "python",
   "pygments_lexer": "ipython3",
   "version": "3.8.10"
  }
 },
 "nbformat": 4,
 "nbformat_minor": 4
}
