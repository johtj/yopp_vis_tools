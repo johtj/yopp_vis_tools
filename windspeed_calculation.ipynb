{
 "cells": [
  {
   "cell_type": "code",
   "execution_count": null,
   "metadata": {},
   "outputs": [],
   "source": [
    "import xarray as xr\n",
    "import pandas as pd\n",
    "import numpy as np\n",
    "import matplotlib.pyplot as plt"
   ]
  },
  {
   "cell_type": "code",
   "execution_count": null,
   "metadata": {},
   "outputs": [],
   "source": [
    "file_name = \"sodankyla_ifs-ecmwf_2018033112.nc\"\n",
    "#opens the file\n",
    "ds = xr.open_dataset(file_name)"
   ]
  },
  {
   "cell_type": "code",
   "execution_count": null,
   "metadata": {},
   "outputs": [],
   "source": [
    "#calculates the windspeed for all levels and times\n",
    "n_all = ds.va\n",
    "e_all = ds.ua\n",
    "levels = ds.level\n",
    "times = ds.time\n",
    "df_n = n_all.to_dataframe()\n",
    "df_e = e_all.to_dataframe()\n",
    "\n",
    "df_n = df_n.rename(columns={\"va\":\"val\"})\n",
    "df_e = df_e.rename(columns={\"ua\":\"val\"})\n",
    "\n",
    "windspeed = lambda u,v: (u*u+v*v)\n",
    "df_comb = df_n.combine(df_e,windspeed)\n",
    "df_comb = df_comb.apply(np.sqrt)"
   ]
  },
  {
   "cell_type": "code",
   "execution_count": null,
   "metadata": {},
   "outputs": [],
   "source": [
    "#makes the dataframe into a time x level layout\n",
    "windspeed_plot = df_comb.unstack().T\n",
    "\n",
    "#plots contour plot with time on x axis and level on y\n",
    "fig1, ax2 = plt.subplots(constrained_layout=True)\n",
    "CS = ax2.contourf(windspeed_plot)\n",
    "\n",
    "ax2.set_title('windspeed calculations')\n",
    "ax2.set_xlabel('time')\n",
    "ax2.set_ylabel('level')\n",
    "\n",
    "#adds color bar\n",
    "cbar = fig1.colorbar(CS)\n",
    "cbar.ax.set_ylabel('windspeed')\n"
   ]
  },
  {
   "cell_type": "code",
   "execution_count": null,
   "metadata": {},
   "outputs": [],
   "source": []
  }
 ],
 "metadata": {
  "kernelspec": {
   "display_name": "Python 3",
   "language": "python",
   "name": "python3"
  },
  "language_info": {
   "codemirror_mode": {
    "name": "ipython",
    "version": 3
   },
   "file_extension": ".py",
   "mimetype": "text/x-python",
   "name": "python",
   "nbconvert_exporter": "python",
   "pygments_lexer": "ipython3",
   "version": "3.9.14"
  },
  "vscode": {
   "interpreter": {
    "hash": "e7370f93d1d0cde622a1f8e1c04877d8463912d04d973331ad4851f04de6915a"
   }
  }
 },
 "nbformat": 4,
 "nbformat_minor": 4
}
